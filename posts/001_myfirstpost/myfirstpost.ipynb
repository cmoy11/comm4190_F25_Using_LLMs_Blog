{
 "cells": [
  {
   "cell_type": "raw",
   "id": "c5533357-5265-4b8f-b8fa-30f237f38507",
   "metadata": {},
   "source": [
    "---\n",
    "title: \"My first post\"\n",
    "author: \"Cameron Moy\"\n",
    "date: \"August 18, 2025\"\n",
    "---"
   ]
  },
  {
   "cell_type": "markdown",
   "id": "7aba48a2-90eb-41c4-847c-31d3eee4d132",
   "metadata": {},
   "source": [
    "## Title: My First Post!!"
   ]
  },
  {
   "cell_type": "code",
   "execution_count": 1,
   "id": "0cc8fccb-5c4c-4f9f-a874-63f2ae75adeb",
   "metadata": {},
   "outputs": [
    {
     "name": "stdout",
     "output_type": "stream",
     "text": [
      "hello world!\n"
     ]
    }
   ],
   "source": [
    "print(\"hello world!\")"
   ]
  },
  {
   "cell_type": "markdown",
   "id": "97d20c25-ce8a-4760-a7c3-90fa65968560",
   "metadata": {},
   "source": [
    "![Deen's Lab](IMG_0482.jpeg)"
   ]
  },
  {
   "cell_type": "code",
   "execution_count": null,
   "id": "a79e205e-fa3a-47a8-839b-7e3b0eab1bb9",
   "metadata": {},
   "outputs": [],
   "source": []
  }
 ],
 "metadata": {
  "kernelspec": {
   "display_name": "Python 3-12 (COMM4190)",
   "language": "python",
   "name": "python3-12_comm4190"
  },
  "language_info": {
   "codemirror_mode": {
    "name": "ipython",
    "version": 3
   },
   "file_extension": ".py",
   "mimetype": "text/x-python",
   "name": "python",
   "nbconvert_exporter": "python",
   "pygments_lexer": "ipython3",
   "version": "3.12.11"
  }
 },
 "nbformat": 4,
 "nbformat_minor": 5
}
