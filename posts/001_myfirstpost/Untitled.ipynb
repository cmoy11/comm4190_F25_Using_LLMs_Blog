{
 "cells": [
  {
   "cell_type": "raw",
   "id": "fac45b09-e6a6-40ac-a8aa-f9d7a3d01749",
   "metadata": {},
   "source": [
    "---\n",
    "title: \"My first post\"\n",
    "author: \"Cameron Moy\"\n",
    "date: \"August 18, 2025\"\n",
    "categories:\n",
    "    - lab\n",
    "    - testing\n",
    "    - hello\n",
    "---"
   ]
  }
 ],
 "metadata": {
  "kernelspec": {
   "display_name": "Python 3 (ipykernel)",
   "language": "python",
   "name": "python3"
  },
  "language_info": {
   "codemirror_mode": {
    "name": "ipython",
    "version": 3
   },
   "file_extension": ".py",
   "mimetype": "text/x-python",
   "name": "python",
   "nbconvert_exporter": "python",
   "pygments_lexer": "ipython3",
   "version": "3.10.12"
  }
 },
 "nbformat": 4,
 "nbformat_minor": 5
}
